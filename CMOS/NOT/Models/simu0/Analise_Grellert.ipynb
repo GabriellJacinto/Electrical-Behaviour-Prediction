{
 "cells": [
  {
   "cell_type": "markdown",
   "metadata": {
    "id": "ZxgWy9fERyOJ"
   },
   "source": [
    "# Importando bibliotecas e dataset\n"
   ]
  },
  {
   "cell_type": "code",
   "execution_count": 1,
   "metadata": {
    "id": "4u2EgfPNw37J"
   },
   "outputs": [],
   "source": [
    "import pandas as pd\n",
    "import matplotlib.pyplot as plt\n",
    "import numpy as np\n",
    "import seaborn as sns\n",
    "from statsmodels.graphics.gofplots import qqplot"
   ]
  },
  {
   "cell_type": "code",
   "execution_count": 2,
   "metadata": {
    "colab": {
     "base_uri": "https://localhost:8080/",
     "height": 359
    },
    "executionInfo": {
     "elapsed": 421,
     "status": "ok",
     "timestamp": 1624573024423,
     "user": {
      "displayName": "Gabriel Jacinto",
      "photoUrl": "https://lh3.googleusercontent.com/a-/AOh14Ghj6BKo-nYPUdItRUFKM9XZ5PrjecgJ6GTIWSxuOw=s64",
      "userId": "03470155761456273099"
     },
     "user_tz": 180
    },
    "id": "HEB7pCUJw7W6",
    "outputId": "93d07100-83b6-496e-b702-6040528da9c6"
   },
   "outputs": [],
   "source": [
    "data = pd.read_csv('./joined_data.csv', na_values='failed')\n",
    "data['tphl'] = pd.to_numeric(data['tphl'], errors = 'coerce')\n",
    "data['tplh'] = pd.to_numeric(data['tplh'], errors = 'coerce')"
   ]
  },
  {
   "cell_type": "code",
   "execution_count": 3,
   "metadata": {
    "colab": {
     "base_uri": "https://localhost:8080/"
    },
    "executionInfo": {
     "elapsed": 30,
     "status": "ok",
     "timestamp": 1624573024426,
     "user": {
      "displayName": "Gabriel Jacinto",
      "photoUrl": "https://lh3.googleusercontent.com/a-/AOh14Ghj6BKo-nYPUdItRUFKM9XZ5PrjecgJ6GTIWSxuOw=s64",
      "userId": "03470155761456273099"
     },
     "user_tz": 180
    },
    "id": "DLCUPeNlfCCY",
    "outputId": "3968d5eb-08a0-4575-9684-6913fac5c97c"
   },
   "outputs": [
    {
     "data": {
      "text/plain": [
       "index          int64\n",
       "nmos@var     float64\n",
       "pmos@varp    float64\n",
       "tphl         float64\n",
       "tplh         float64\n",
       "iint         float64\n",
       "temper       float64\n",
       "alter          int64\n",
       "tensao       float64\n",
       "dtype: object"
      ]
     },
     "execution_count": 3,
     "metadata": {},
     "output_type": "execute_result"
    }
   ],
   "source": [
    "data.dtypes"
   ]
  },
  {
   "cell_type": "code",
   "execution_count": 4,
   "metadata": {
    "colab": {
     "base_uri": "https://localhost:8080/"
    },
    "executionInfo": {
     "elapsed": 27,
     "status": "ok",
     "timestamp": 1624573024431,
     "user": {
      "displayName": "Gabriel Jacinto",
      "photoUrl": "https://lh3.googleusercontent.com/a-/AOh14Ghj6BKo-nYPUdItRUFKM9XZ5PrjecgJ6GTIWSxuOw=s64",
      "userId": "03470155761456273099"
     },
     "user_tz": 180
    },
    "id": "t1Hc8pLRisRA",
    "outputId": "7131a765-be7e-428c-a318-df9a4a2c8e1d"
   },
   "outputs": [
    {
     "data": {
      "text/html": [
       "<div>\n",
       "<style scoped>\n",
       "    .dataframe tbody tr th:only-of-type {\n",
       "        vertical-align: middle;\n",
       "    }\n",
       "\n",
       "    .dataframe tbody tr th {\n",
       "        vertical-align: top;\n",
       "    }\n",
       "\n",
       "    .dataframe thead th {\n",
       "        text-align: right;\n",
       "    }\n",
       "</style>\n",
       "<table border=\"1\" class=\"dataframe\">\n",
       "  <thead>\n",
       "    <tr style=\"text-align: right;\">\n",
       "      <th></th>\n",
       "      <th>index</th>\n",
       "      <th>nmos@var</th>\n",
       "      <th>pmos@varp</th>\n",
       "      <th>tphl</th>\n",
       "      <th>tplh</th>\n",
       "      <th>iint</th>\n",
       "      <th>temper</th>\n",
       "      <th>alter</th>\n",
       "      <th>tensao</th>\n",
       "    </tr>\n",
       "  </thead>\n",
       "  <tbody>\n",
       "    <tr>\n",
       "      <th>0</th>\n",
       "      <td>1</td>\n",
       "      <td>0.5166</td>\n",
       "      <td>-0.4341</td>\n",
       "      <td>9.607000e-12</td>\n",
       "      <td>8.368000e-12</td>\n",
       "      <td>-1.330000e-15</td>\n",
       "      <td>-25.0</td>\n",
       "      <td>1</td>\n",
       "      <td>0.6</td>\n",
       "    </tr>\n",
       "    <tr>\n",
       "      <th>1</th>\n",
       "      <td>2</td>\n",
       "      <td>0.5064</td>\n",
       "      <td>-0.4523</td>\n",
       "      <td>9.424000e-12</td>\n",
       "      <td>8.791000e-12</td>\n",
       "      <td>-1.337000e-15</td>\n",
       "      <td>-25.0</td>\n",
       "      <td>1</td>\n",
       "      <td>0.6</td>\n",
       "    </tr>\n",
       "    <tr>\n",
       "      <th>2</th>\n",
       "      <td>3</td>\n",
       "      <td>0.4909</td>\n",
       "      <td>-0.4618</td>\n",
       "      <td>9.156000e-12</td>\n",
       "      <td>9.046000e-12</td>\n",
       "      <td>-1.388000e-15</td>\n",
       "      <td>-25.0</td>\n",
       "      <td>1</td>\n",
       "      <td>0.6</td>\n",
       "    </tr>\n",
       "    <tr>\n",
       "      <th>3</th>\n",
       "      <td>4</td>\n",
       "      <td>0.4882</td>\n",
       "      <td>-0.4667</td>\n",
       "      <td>9.111000e-12</td>\n",
       "      <td>9.161000e-12</td>\n",
       "      <td>-1.395000e-15</td>\n",
       "      <td>-25.0</td>\n",
       "      <td>1</td>\n",
       "      <td>0.6</td>\n",
       "    </tr>\n",
       "    <tr>\n",
       "      <th>4</th>\n",
       "      <td>5</td>\n",
       "      <td>0.5275</td>\n",
       "      <td>-0.4342</td>\n",
       "      <td>9.809000e-12</td>\n",
       "      <td>8.899000e-12</td>\n",
       "      <td>-1.351000e-15</td>\n",
       "      <td>-25.0</td>\n",
       "      <td>1</td>\n",
       "      <td>0.6</td>\n",
       "    </tr>\n",
       "  </tbody>\n",
       "</table>\n",
       "</div>"
      ],
      "text/plain": [
       "   index  nmos@var  pmos@varp          tphl          tplh          iint  \\\n",
       "0      1    0.5166    -0.4341  9.607000e-12  8.368000e-12 -1.330000e-15   \n",
       "1      2    0.5064    -0.4523  9.424000e-12  8.791000e-12 -1.337000e-15   \n",
       "2      3    0.4909    -0.4618  9.156000e-12  9.046000e-12 -1.388000e-15   \n",
       "3      4    0.4882    -0.4667  9.111000e-12  9.161000e-12 -1.395000e-15   \n",
       "4      5    0.5275    -0.4342  9.809000e-12  8.899000e-12 -1.351000e-15   \n",
       "\n",
       "   temper  alter  tensao  \n",
       "0   -25.0      1     0.6  \n",
       "1   -25.0      1     0.6  \n",
       "2   -25.0      1     0.6  \n",
       "3   -25.0      1     0.6  \n",
       "4   -25.0      1     0.6  "
      ]
     },
     "execution_count": 4,
     "metadata": {},
     "output_type": "execute_result"
    }
   ],
   "source": [
    "data.head()"
   ]
  },
  {
   "cell_type": "code",
   "execution_count": 5,
   "metadata": {
    "colab": {
     "base_uri": "https://localhost:8080/",
     "height": 297
    },
    "executionInfo": {
     "elapsed": 568,
     "status": "ok",
     "timestamp": 1624573024980,
     "user": {
      "displayName": "Gabriel Jacinto",
      "photoUrl": "https://lh3.googleusercontent.com/a-/AOh14Ghj6BKo-nYPUdItRUFKM9XZ5PrjecgJ6GTIWSxuOw=s64",
      "userId": "03470155761456273099"
     },
     "user_tz": 180
    },
    "id": "KtQmCdYKyTJ8",
    "outputId": "dce662b9-f570-489e-96bd-3d1bfc879260"
   },
   "outputs": [
    {
     "data": {
      "text/html": [
       "<div>\n",
       "<style scoped>\n",
       "    .dataframe tbody tr th:only-of-type {\n",
       "        vertical-align: middle;\n",
       "    }\n",
       "\n",
       "    .dataframe tbody tr th {\n",
       "        vertical-align: top;\n",
       "    }\n",
       "\n",
       "    .dataframe thead th {\n",
       "        text-align: right;\n",
       "    }\n",
       "</style>\n",
       "<table border=\"1\" class=\"dataframe\">\n",
       "  <thead>\n",
       "    <tr style=\"text-align: right;\">\n",
       "      <th></th>\n",
       "      <th>index</th>\n",
       "      <th>nmos@var</th>\n",
       "      <th>pmos@varp</th>\n",
       "      <th>tphl</th>\n",
       "      <th>tplh</th>\n",
       "      <th>iint</th>\n",
       "      <th>temper</th>\n",
       "      <th>alter</th>\n",
       "      <th>tensao</th>\n",
       "    </tr>\n",
       "  </thead>\n",
       "  <tbody>\n",
       "    <tr>\n",
       "      <th>count</th>\n",
       "      <td>168000.000000</td>\n",
       "      <td>168000.000000</td>\n",
       "      <td>168000.000000</td>\n",
       "      <td>1.550770e+05</td>\n",
       "      <td>1.550770e+05</td>\n",
       "      <td>1.680000e+05</td>\n",
       "      <td>168000.000000</td>\n",
       "      <td>168000.000000</td>\n",
       "      <td>168000.000000</td>\n",
       "    </tr>\n",
       "    <tr>\n",
       "      <th>mean</th>\n",
       "      <td>500.500000</td>\n",
       "      <td>0.509033</td>\n",
       "      <td>-0.450689</td>\n",
       "      <td>6.592126e-11</td>\n",
       "      <td>-6.440956e-10</td>\n",
       "      <td>-1.904696e-03</td>\n",
       "      <td>37.500000</td>\n",
       "      <td>4.000000</td>\n",
       "      <td>0.750000</td>\n",
       "    </tr>\n",
       "    <tr>\n",
       "      <th>std</th>\n",
       "      <td>288.675849</td>\n",
       "      <td>0.016785</td>\n",
       "      <td>0.015277</td>\n",
       "      <td>7.263116e-10</td>\n",
       "      <td>2.477490e-09</td>\n",
       "      <td>1.944617e-01</td>\n",
       "      <td>42.695755</td>\n",
       "      <td>2.000006</td>\n",
       "      <td>0.111804</td>\n",
       "    </tr>\n",
       "    <tr>\n",
       "      <th>min</th>\n",
       "      <td>1.000000</td>\n",
       "      <td>0.461300</td>\n",
       "      <td>-0.493300</td>\n",
       "      <td>-3.819000e-12</td>\n",
       "      <td>-1.000000e-08</td>\n",
       "      <td>-3.342370e+01</td>\n",
       "      <td>-25.000000</td>\n",
       "      <td>1.000000</td>\n",
       "      <td>0.600000</td>\n",
       "    </tr>\n",
       "    <tr>\n",
       "      <th>25%</th>\n",
       "      <td>250.750000</td>\n",
       "      <td>0.497775</td>\n",
       "      <td>-0.461900</td>\n",
       "      <td>9.825000e-12</td>\n",
       "      <td>7.604000e-12</td>\n",
       "      <td>-2.681000e-15</td>\n",
       "      <td>0.000000</td>\n",
       "      <td>2.000000</td>\n",
       "      <td>0.675000</td>\n",
       "    </tr>\n",
       "    <tr>\n",
       "      <th>50%</th>\n",
       "      <td>500.500000</td>\n",
       "      <td>0.508850</td>\n",
       "      <td>-0.450500</td>\n",
       "      <td>1.226000e-11</td>\n",
       "      <td>1.080000e-11</td>\n",
       "      <td>-1.713000e-15</td>\n",
       "      <td>37.500000</td>\n",
       "      <td>4.000000</td>\n",
       "      <td>0.750000</td>\n",
       "    </tr>\n",
       "    <tr>\n",
       "      <th>75%</th>\n",
       "      <td>750.250000</td>\n",
       "      <td>0.520125</td>\n",
       "      <td>-0.440300</td>\n",
       "      <td>1.476000e-11</td>\n",
       "      <td>1.874000e-11</td>\n",
       "      <td>-1.366000e-15</td>\n",
       "      <td>75.000000</td>\n",
       "      <td>6.000000</td>\n",
       "      <td>0.825000</td>\n",
       "    </tr>\n",
       "    <tr>\n",
       "      <th>max</th>\n",
       "      <td>1000.000000</td>\n",
       "      <td>0.586100</td>\n",
       "      <td>-0.405800</td>\n",
       "      <td>1.018000e-08</td>\n",
       "      <td>2.631000e-10</td>\n",
       "      <td>2.933300e+01</td>\n",
       "      <td>100.000000</td>\n",
       "      <td>7.000000</td>\n",
       "      <td>0.900000</td>\n",
       "    </tr>\n",
       "  </tbody>\n",
       "</table>\n",
       "</div>"
      ],
      "text/plain": [
       "               index       nmos@var      pmos@varp          tphl  \\\n",
       "count  168000.000000  168000.000000  168000.000000  1.550770e+05   \n",
       "mean      500.500000       0.509033      -0.450689  6.592126e-11   \n",
       "std       288.675849       0.016785       0.015277  7.263116e-10   \n",
       "min         1.000000       0.461300      -0.493300 -3.819000e-12   \n",
       "25%       250.750000       0.497775      -0.461900  9.825000e-12   \n",
       "50%       500.500000       0.508850      -0.450500  1.226000e-11   \n",
       "75%       750.250000       0.520125      -0.440300  1.476000e-11   \n",
       "max      1000.000000       0.586100      -0.405800  1.018000e-08   \n",
       "\n",
       "               tplh          iint         temper          alter         tensao  \n",
       "count  1.550770e+05  1.680000e+05  168000.000000  168000.000000  168000.000000  \n",
       "mean  -6.440956e-10 -1.904696e-03      37.500000       4.000000       0.750000  \n",
       "std    2.477490e-09  1.944617e-01      42.695755       2.000006       0.111804  \n",
       "min   -1.000000e-08 -3.342370e+01     -25.000000       1.000000       0.600000  \n",
       "25%    7.604000e-12 -2.681000e-15       0.000000       2.000000       0.675000  \n",
       "50%    1.080000e-11 -1.713000e-15      37.500000       4.000000       0.750000  \n",
       "75%    1.874000e-11 -1.366000e-15      75.000000       6.000000       0.825000  \n",
       "max    2.631000e-10  2.933300e+01     100.000000       7.000000       0.900000  "
      ]
     },
     "execution_count": 5,
     "metadata": {},
     "output_type": "execute_result"
    }
   ],
   "source": [
    "data.describe()"
   ]
  },
  {
   "cell_type": "markdown",
   "metadata": {
    "id": "GQx_0hUOaUZ5"
   },
   "source": [
    "# Limpando e Ajustando Dados"
   ]
  },
  {
   "cell_type": "code",
   "execution_count": 6,
   "metadata": {
    "colab": {
     "base_uri": "https://localhost:8080/"
    },
    "executionInfo": {
     "elapsed": 62,
     "status": "ok",
     "timestamp": 1624573024986,
     "user": {
      "displayName": "Gabriel Jacinto",
      "photoUrl": "https://lh3.googleusercontent.com/a-/AOh14Ghj6BKo-nYPUdItRUFKM9XZ5PrjecgJ6GTIWSxuOw=s64",
      "userId": "03470155761456273099"
     },
     "user_tz": 180
    },
    "id": "vPSuPTE5rElJ",
    "outputId": "ce0a321a-8107-4ebf-d8ef-545cb00dfdd3"
   },
   "outputs": [
    {
     "name": "stdout",
     "output_type": "stream",
     "text": [
      "Statistics=0.006, p=0.000\n",
      "Sample does not look Gaussian (reject H0)\n"
     ]
    },
    {
     "name": "stderr",
     "output_type": "stream",
     "text": [
      "/opt/anaconda3/lib/python3.8/site-packages/scipy/stats/morestats.py:1681: UserWarning: p-value may not be accurate for N > 5000.\n",
      "  warnings.warn(\"p-value may not be accurate for N > 5000.\")\n"
     ]
    }
   ],
   "source": [
    "from scipy.stats import shapiro\n",
    "stat, p = shapiro(data.iint)\n",
    "print('Statistics=%.3f, p=%.3f' % (stat, p))\n",
    "# interpret\n",
    "alpha = 0.05\n",
    "if p > alpha:\n",
    "\tprint('Sample looks Gaussian (fail to reject H0)')\n",
    "else:\n",
    "\tprint('Sample does not look Gaussian (reject H0)')"
   ]
  },
  {
   "cell_type": "code",
   "execution_count": 7,
   "metadata": {
    "colab": {
     "base_uri": "https://localhost:8080/",
     "height": 204
    },
    "executionInfo": {
     "elapsed": 56,
     "status": "ok",
     "timestamp": 1624573024988,
     "user": {
      "displayName": "Gabriel Jacinto",
      "photoUrl": "https://lh3.googleusercontent.com/a-/AOh14Ghj6BKo-nYPUdItRUFKM9XZ5PrjecgJ6GTIWSxuOw=s64",
      "userId": "03470155761456273099"
     },
     "user_tz": 180
    },
    "id": "st_i_rkgPLgi",
    "outputId": "c292dac2-3665-4eb0-9a7c-b6ede1e7de26"
   },
   "outputs": [
    {
     "data": {
      "text/html": [
       "<div>\n",
       "<style scoped>\n",
       "    .dataframe tbody tr th:only-of-type {\n",
       "        vertical-align: middle;\n",
       "    }\n",
       "\n",
       "    .dataframe tbody tr th {\n",
       "        vertical-align: top;\n",
       "    }\n",
       "\n",
       "    .dataframe thead th {\n",
       "        text-align: right;\n",
       "    }\n",
       "</style>\n",
       "<table border=\"1\" class=\"dataframe\">\n",
       "  <thead>\n",
       "    <tr style=\"text-align: right;\">\n",
       "      <th></th>\n",
       "      <th>index</th>\n",
       "      <th>nmos@var</th>\n",
       "      <th>pmos@varp</th>\n",
       "      <th>tphl</th>\n",
       "      <th>tplh</th>\n",
       "      <th>iint</th>\n",
       "      <th>temper</th>\n",
       "      <th>alter</th>\n",
       "      <th>tensao</th>\n",
       "      <th>width_pmos</th>\n",
       "      <th>width_nmos</th>\n",
       "      <th>length_n&amp;p</th>\n",
       "    </tr>\n",
       "  </thead>\n",
       "  <tbody>\n",
       "    <tr>\n",
       "      <th>0</th>\n",
       "      <td>1</td>\n",
       "      <td>0.5166</td>\n",
       "      <td>-0.4341</td>\n",
       "      <td>9.607000e-12</td>\n",
       "      <td>8.368000e-12</td>\n",
       "      <td>-1.330000e-15</td>\n",
       "      <td>-25.0</td>\n",
       "      <td>1</td>\n",
       "      <td>0.6</td>\n",
       "      <td>1.400000e-07</td>\n",
       "      <td>7.000000e-08</td>\n",
       "      <td>3.200000e-08</td>\n",
       "    </tr>\n",
       "    <tr>\n",
       "      <th>1</th>\n",
       "      <td>2</td>\n",
       "      <td>0.5064</td>\n",
       "      <td>-0.4523</td>\n",
       "      <td>9.424000e-12</td>\n",
       "      <td>8.791000e-12</td>\n",
       "      <td>-1.337000e-15</td>\n",
       "      <td>-25.0</td>\n",
       "      <td>1</td>\n",
       "      <td>0.6</td>\n",
       "      <td>1.400000e-07</td>\n",
       "      <td>7.000000e-08</td>\n",
       "      <td>3.200000e-08</td>\n",
       "    </tr>\n",
       "    <tr>\n",
       "      <th>2</th>\n",
       "      <td>3</td>\n",
       "      <td>0.4909</td>\n",
       "      <td>-0.4618</td>\n",
       "      <td>9.156000e-12</td>\n",
       "      <td>9.046000e-12</td>\n",
       "      <td>-1.388000e-15</td>\n",
       "      <td>-25.0</td>\n",
       "      <td>1</td>\n",
       "      <td>0.6</td>\n",
       "      <td>1.400000e-07</td>\n",
       "      <td>7.000000e-08</td>\n",
       "      <td>3.200000e-08</td>\n",
       "    </tr>\n",
       "    <tr>\n",
       "      <th>3</th>\n",
       "      <td>4</td>\n",
       "      <td>0.4882</td>\n",
       "      <td>-0.4667</td>\n",
       "      <td>9.111000e-12</td>\n",
       "      <td>9.161000e-12</td>\n",
       "      <td>-1.395000e-15</td>\n",
       "      <td>-25.0</td>\n",
       "      <td>1</td>\n",
       "      <td>0.6</td>\n",
       "      <td>1.400000e-07</td>\n",
       "      <td>7.000000e-08</td>\n",
       "      <td>3.200000e-08</td>\n",
       "    </tr>\n",
       "    <tr>\n",
       "      <th>4</th>\n",
       "      <td>5</td>\n",
       "      <td>0.5275</td>\n",
       "      <td>-0.4342</td>\n",
       "      <td>9.809000e-12</td>\n",
       "      <td>8.899000e-12</td>\n",
       "      <td>-1.351000e-15</td>\n",
       "      <td>-25.0</td>\n",
       "      <td>1</td>\n",
       "      <td>0.6</td>\n",
       "      <td>1.400000e-07</td>\n",
       "      <td>7.000000e-08</td>\n",
       "      <td>3.200000e-08</td>\n",
       "    </tr>\n",
       "  </tbody>\n",
       "</table>\n",
       "</div>"
      ],
      "text/plain": [
       "   index  nmos@var  pmos@varp          tphl          tplh          iint  \\\n",
       "0      1    0.5166    -0.4341  9.607000e-12  8.368000e-12 -1.330000e-15   \n",
       "1      2    0.5064    -0.4523  9.424000e-12  8.791000e-12 -1.337000e-15   \n",
       "2      3    0.4909    -0.4618  9.156000e-12  9.046000e-12 -1.388000e-15   \n",
       "3      4    0.4882    -0.4667  9.111000e-12  9.161000e-12 -1.395000e-15   \n",
       "4      5    0.5275    -0.4342  9.809000e-12  8.899000e-12 -1.351000e-15   \n",
       "\n",
       "   temper  alter  tensao    width_pmos    width_nmos    length_n&p  \n",
       "0   -25.0      1     0.6  1.400000e-07  7.000000e-08  3.200000e-08  \n",
       "1   -25.0      1     0.6  1.400000e-07  7.000000e-08  3.200000e-08  \n",
       "2   -25.0      1     0.6  1.400000e-07  7.000000e-08  3.200000e-08  \n",
       "3   -25.0      1     0.6  1.400000e-07  7.000000e-08  3.200000e-08  \n",
       "4   -25.0      1     0.6  1.400000e-07  7.000000e-08  3.200000e-08  "
      ]
     },
     "execution_count": 7,
     "metadata": {},
     "output_type": "execute_result"
    }
   ],
   "source": [
    "data.loc[data.alter == 1, ['width_pmos', 'width_nmos', 'length_n&p']] = 140e-9, 70e-9, 32e-9\n",
    "data.loc[data.alter == 2, ['width_pmos', 'width_nmos', 'length_n&p']] = 70e-9, 70e-9, 32e-9\n",
    "data.loc[data.alter == 3, ['width_pmos', 'width_nmos', 'length_n&p']] = 280e-9, 70e-9, 32e-9\n",
    "data.loc[data.alter == 4, ['width_pmos', 'width_nmos', 'length_n&p']] = 350e-9, 70e-9, 32e-9\n",
    "data.loc[data.alter == 5, ['width_pmos', 'width_nmos', 'length_n&p']] = 420e-9, 140e-9, 32e-9\n",
    "data.loc[data.alter == 6, ['width_pmos', 'width_nmos', 'length_n&p']] = 140e-9, 70e-9, 20e-9\n",
    "data.loc[data.alter == 7, ['width_pmos', 'width_nmos', 'length_n&p']] = 140e-9, 70e-9, 40e-9\n",
    "data.head()"
   ]
  },
  {
   "cell_type": "code",
   "execution_count": 8,
   "metadata": {
    "id": "xArE8vjnjsiq"
   },
   "outputs": [],
   "source": [
    "df = data.copy()"
   ]
  },
  {
   "cell_type": "code",
   "execution_count": 9,
   "metadata": {
    "id": "537q2Yc8za4x"
   },
   "outputs": [],
   "source": [
    "df = df.drop('alter',axis=1)\n",
    "df = df.drop('index',axis=1)"
   ]
  },
  {
   "cell_type": "code",
   "execution_count": 10,
   "metadata": {
    "colab": {
     "base_uri": "https://localhost:8080/"
    },
    "executionInfo": {
     "elapsed": 64,
     "status": "ok",
     "timestamp": 1624573024998,
     "user": {
      "displayName": "Gabriel Jacinto",
      "photoUrl": "https://lh3.googleusercontent.com/a-/AOh14Ghj6BKo-nYPUdItRUFKM9XZ5PrjecgJ6GTIWSxuOw=s64",
      "userId": "03470155761456273099"
     },
     "user_tz": 180
    },
    "id": "T75DnXrmSiIa",
    "outputId": "74f3a08f-e2b2-4730-dde6-b0ba68406b40"
   },
   "outputs": [
    {
     "name": "stdout",
     "output_type": "stream",
     "text": [
      "(168000, 10)\n"
     ]
    },
    {
     "data": {
      "text/plain": [
       "nmos@var          0\n",
       "pmos@varp         0\n",
       "tphl          12923\n",
       "tplh          12923\n",
       "iint              0\n",
       "temper            0\n",
       "tensao            0\n",
       "width_pmos        0\n",
       "width_nmos        0\n",
       "length_n&p        0\n",
       "dtype: int64"
      ]
     },
     "execution_count": 10,
     "metadata": {},
     "output_type": "execute_result"
    }
   ],
   "source": [
    "print(df.shape)\n",
    "df.isna().sum()"
   ]
  },
  {
   "cell_type": "code",
   "execution_count": 11,
   "metadata": {
    "colab": {
     "base_uri": "https://localhost:8080/",
     "height": 501
    },
    "executionInfo": {
     "elapsed": 364,
     "status": "ok",
     "timestamp": 1624573025306,
     "user": {
      "displayName": "Gabriel Jacinto",
      "photoUrl": "https://lh3.googleusercontent.com/a-/AOh14Ghj6BKo-nYPUdItRUFKM9XZ5PrjecgJ6GTIWSxuOw=s64",
      "userId": "03470155761456273099"
     },
     "user_tz": 180
    },
    "id": "ldm3Uz0wkJ7e",
    "outputId": "54125597-9846-44df-ad85-ace976adda9d"
   },
   "outputs": [
    {
     "name": "stdout",
     "output_type": "stream",
     "text": [
      "(155077, 10)\n",
      "nmos@var      0\n",
      "pmos@varp     0\n",
      "tphl          0\n",
      "tplh          0\n",
      "iint          0\n",
      "temper        0\n",
      "tensao        0\n",
      "width_pmos    0\n",
      "width_nmos    0\n",
      "length_n&p    0\n",
      "dtype: int64\n"
     ]
    },
    {
     "data": {
      "text/html": [
       "<div>\n",
       "<style scoped>\n",
       "    .dataframe tbody tr th:only-of-type {\n",
       "        vertical-align: middle;\n",
       "    }\n",
       "\n",
       "    .dataframe tbody tr th {\n",
       "        vertical-align: top;\n",
       "    }\n",
       "\n",
       "    .dataframe thead th {\n",
       "        text-align: right;\n",
       "    }\n",
       "</style>\n",
       "<table border=\"1\" class=\"dataframe\">\n",
       "  <thead>\n",
       "    <tr style=\"text-align: right;\">\n",
       "      <th></th>\n",
       "      <th>nmos@var</th>\n",
       "      <th>pmos@varp</th>\n",
       "      <th>tphl</th>\n",
       "      <th>tplh</th>\n",
       "      <th>iint</th>\n",
       "      <th>temper</th>\n",
       "      <th>tensao</th>\n",
       "      <th>width_pmos</th>\n",
       "      <th>width_nmos</th>\n",
       "      <th>length_n&amp;p</th>\n",
       "    </tr>\n",
       "  </thead>\n",
       "  <tbody>\n",
       "    <tr>\n",
       "      <th>count</th>\n",
       "      <td>155077.000000</td>\n",
       "      <td>155077.000000</td>\n",
       "      <td>1.550770e+05</td>\n",
       "      <td>1.550770e+05</td>\n",
       "      <td>1.550770e+05</td>\n",
       "      <td>155077.000000</td>\n",
       "      <td>155077.000000</td>\n",
       "      <td>1.550770e+05</td>\n",
       "      <td>1.550770e+05</td>\n",
       "      <td>1.550770e+05</td>\n",
       "    </tr>\n",
       "    <tr>\n",
       "      <th>mean</th>\n",
       "      <td>0.509108</td>\n",
       "      <td>-0.450684</td>\n",
       "      <td>6.592126e-11</td>\n",
       "      <td>-6.440956e-10</td>\n",
       "      <td>-2.063419e-03</td>\n",
       "      <td>37.467033</td>\n",
       "      <td>0.750069</td>\n",
       "      <td>2.266666e-07</td>\n",
       "      <td>8.083333e-08</td>\n",
       "      <td>3.238095e-08</td>\n",
       "    </tr>\n",
       "    <tr>\n",
       "      <th>std</th>\n",
       "      <td>0.016825</td>\n",
       "      <td>0.015274</td>\n",
       "      <td>7.263116e-10</td>\n",
       "      <td>2.477490e-09</td>\n",
       "      <td>2.024013e-01</td>\n",
       "      <td>42.982289</td>\n",
       "      <td>0.111693</td>\n",
       "      <td>1.234463e-07</td>\n",
       "      <td>2.531751e-08</td>\n",
       "      <td>4.477225e-09</td>\n",
       "    </tr>\n",
       "    <tr>\n",
       "      <th>min</th>\n",
       "      <td>0.461300</td>\n",
       "      <td>-0.493300</td>\n",
       "      <td>-3.819000e-12</td>\n",
       "      <td>-1.000000e-08</td>\n",
       "      <td>-3.342370e+01</td>\n",
       "      <td>-25.000000</td>\n",
       "      <td>0.600000</td>\n",
       "      <td>7.000000e-08</td>\n",
       "      <td>7.000000e-08</td>\n",
       "      <td>2.000000e-08</td>\n",
       "    </tr>\n",
       "    <tr>\n",
       "      <th>25%</th>\n",
       "      <td>0.497800</td>\n",
       "      <td>-0.461900</td>\n",
       "      <td>9.825000e-12</td>\n",
       "      <td>7.604000e-12</td>\n",
       "      <td>-2.351000e-15</td>\n",
       "      <td>0.000000</td>\n",
       "      <td>0.700000</td>\n",
       "      <td>1.400000e-07</td>\n",
       "      <td>7.000000e-08</td>\n",
       "      <td>3.200000e-08</td>\n",
       "    </tr>\n",
       "    <tr>\n",
       "      <th>50%</th>\n",
       "      <td>0.509000</td>\n",
       "      <td>-0.450500</td>\n",
       "      <td>1.226000e-11</td>\n",
       "      <td>1.080000e-11</td>\n",
       "      <td>-1.657000e-15</td>\n",
       "      <td>50.000000</td>\n",
       "      <td>0.800000</td>\n",
       "      <td>1.400000e-07</td>\n",
       "      <td>7.000000e-08</td>\n",
       "      <td>3.200000e-08</td>\n",
       "    </tr>\n",
       "    <tr>\n",
       "      <th>75%</th>\n",
       "      <td>0.520200</td>\n",
       "      <td>-0.440300</td>\n",
       "      <td>1.476000e-11</td>\n",
       "      <td>1.874000e-11</td>\n",
       "      <td>-1.336000e-15</td>\n",
       "      <td>75.000000</td>\n",
       "      <td>0.800000</td>\n",
       "      <td>3.500000e-07</td>\n",
       "      <td>7.000000e-08</td>\n",
       "      <td>3.200000e-08</td>\n",
       "    </tr>\n",
       "    <tr>\n",
       "      <th>max</th>\n",
       "      <td>0.586100</td>\n",
       "      <td>-0.405800</td>\n",
       "      <td>1.018000e-08</td>\n",
       "      <td>2.631000e-10</td>\n",
       "      <td>2.933300e+01</td>\n",
       "      <td>100.000000</td>\n",
       "      <td>0.900000</td>\n",
       "      <td>4.200000e-07</td>\n",
       "      <td>1.400000e-07</td>\n",
       "      <td>4.000000e-08</td>\n",
       "    </tr>\n",
       "  </tbody>\n",
       "</table>\n",
       "</div>"
      ],
      "text/plain": [
       "            nmos@var      pmos@varp          tphl          tplh          iint  \\\n",
       "count  155077.000000  155077.000000  1.550770e+05  1.550770e+05  1.550770e+05   \n",
       "mean        0.509108      -0.450684  6.592126e-11 -6.440956e-10 -2.063419e-03   \n",
       "std         0.016825       0.015274  7.263116e-10  2.477490e-09  2.024013e-01   \n",
       "min         0.461300      -0.493300 -3.819000e-12 -1.000000e-08 -3.342370e+01   \n",
       "25%         0.497800      -0.461900  9.825000e-12  7.604000e-12 -2.351000e-15   \n",
       "50%         0.509000      -0.450500  1.226000e-11  1.080000e-11 -1.657000e-15   \n",
       "75%         0.520200      -0.440300  1.476000e-11  1.874000e-11 -1.336000e-15   \n",
       "max         0.586100      -0.405800  1.018000e-08  2.631000e-10  2.933300e+01   \n",
       "\n",
       "              temper         tensao    width_pmos    width_nmos    length_n&p  \n",
       "count  155077.000000  155077.000000  1.550770e+05  1.550770e+05  1.550770e+05  \n",
       "mean       37.467033       0.750069  2.266666e-07  8.083333e-08  3.238095e-08  \n",
       "std        42.982289       0.111693  1.234463e-07  2.531751e-08  4.477225e-09  \n",
       "min       -25.000000       0.600000  7.000000e-08  7.000000e-08  2.000000e-08  \n",
       "25%         0.000000       0.700000  1.400000e-07  7.000000e-08  3.200000e-08  \n",
       "50%        50.000000       0.800000  1.400000e-07  7.000000e-08  3.200000e-08  \n",
       "75%        75.000000       0.800000  3.500000e-07  7.000000e-08  3.200000e-08  \n",
       "max       100.000000       0.900000  4.200000e-07  1.400000e-07  4.000000e-08  "
      ]
     },
     "execution_count": 11,
     "metadata": {},
     "output_type": "execute_result"
    }
   ],
   "source": [
    "df = df.apply(pd.to_numeric, errors='coerce')\n",
    "df = df.dropna()\n",
    "print(df.shape)\n",
    "print(df.isna().sum())\n",
    "df.describe()"
   ]
  },
  {
   "cell_type": "code",
   "execution_count": 75,
   "metadata": {},
   "outputs": [
    {
     "data": {
      "image/png": "[encoded data removed]",
      "text/plain": [
       "<Figure size 432x288 with 1 Axes>"
      ]
     },
     "metadata": {
      "needs_background": "light"
     },
     "output_type": "display_data"
    },
    {
     "name": "stdout",
     "output_type": "stream",
     "text": [
      "<class 'pandas.core.frame.DataFrame'>\n",
      "Int64Index: 117971 entries, 0 to 167999\n",
      "Data columns (total 10 columns):\n",
      " #   Column      Non-Null Count   Dtype  \n",
      "---  ------      --------------   -----  \n",
      " 0   nmos@var    117971 non-null  float64\n",
      " 1   pmos@varp   117971 non-null  float64\n",
      " 2   tphl        117971 non-null  float64\n",
      " 3   tplh        117971 non-null  float64\n",
      " 4   iint        117971 non-null  float64\n",
      " 5   temper      117971 non-null  float64\n",
      " 6   tensao      117971 non-null  float64\n",
      " 7   width_pmos  117971 non-null  float64\n",
      " 8   width_nmos  117971 non-null  float64\n",
      " 9   length_n&p  117971 non-null  float64\n",
      "dtypes: float64(10)\n",
      "memory usage: 9.9 MB\n",
      "None\n"
     ]
    }
   ],
   "source": [
    "labels = ['tphl', 'tplh']\n",
    "\n",
    "# removendo valores negativos\n",
    "df_ = df.loc[(df['tplh'] > 0),:]\n",
    "df_ = df_.loc[(df['tphl'] > 0),:]\n",
    "\n",
    "# Selecionando [5,95%] dos dados somente\n",
    "df_ = df_[df_['tphl'] <= np.percentile(df_['tphl'],95)]\n",
    "df_ = df_[df_['tphl'] >= np.percentile(df_['tphl'],5)]\n",
    "df_ = df_[df_['tplh'] <= np.percentile(df_['tplh'],95)]\n",
    "df_ = df_[df_['tplh'] >= np.percentile(df_['tplh'],5)]\n",
    "\n",
    "\n",
    "# setando X e y\n",
    "X = df_.drop(labels, axis = 1)\n",
    "# ajustando y para ficar entre 0 e 1\n",
    "y_hl = df_['tphl']/df_['tphl'].max()\n",
    "y_lh = df_['tplh']/df_['tplh'].max()\n",
    "\n",
    "sns.kdeplot(y_hl, label = 'tp HL')\n",
    "sns.kdeplot(y_lh, label = 'tp LH')\n",
    "plt.legend()\n",
    "plt.show()\n"
   ]
  },
  {
   "cell_type": "code",
   "execution_count": 97,
   "metadata": {
    "scrolled": false
   },
   "outputs": [
    {
     "name": "stdout",
     "output_type": "stream",
     "text": [
      "label: tp LH\n",
      "clf: DecisionTreeRegressor, mse: 4.0138878662145444e-05\n",
      "clf: LinearRegression, mse: 0.007230572570239273\n",
      "label: tp HL\n",
      "clf: DecisionTreeRegressor, mse: 9.731879760999055e-06\n",
      "clf: LinearRegression, mse: 0.005092834883229996\n"
     ]
    },
    {
     "data": {
      "image/png": "[encoded data removed]",
      "text/plain": [
       "<Figure size 720x504 with 4 Axes>"
      ]
     },
     "metadata": {
      "needs_background": "light"
     },
     "output_type": "display_data"
    }
   ],
   "source": [
    "from sklearn.tree import DecisionTreeRegressor\n",
    "from sklearn.ensemble import RandomForestRegressor\n",
    "from sklearn.linear_model import LinearRegression\n",
    "from sklearn.model_selection import train_test_split\n",
    "from sklearn.metrics import mean_squared_error\n",
    "from sklearn.preprocessing import StandardScaler\n",
    "\n",
    "clfs = [DecisionTreeRegressor(), LinearRegression()]\n",
    "Xtr, Xte, ytr, yte = train_test_split(X, y_lh)\n",
    "scaler = StandardScaler().fit(Xtr)\n",
    "Xtr_sc = scaler.transform(Xtr)\n",
    "Xte_sc = scaler.transform(Xte)\n",
    "\n",
    "fig, ax = plt.subplots(2,2, figsize = (10,7))\n",
    "print('label: tp LH')\n",
    "for idx,clf in enumerate(clfs):\n",
    "    i = idx\n",
    "    \n",
    "    clf = clf.fit(Xtr_sc, ytr)\n",
    "    ypred = clf.predict(Xte_sc)\n",
    "    mse = mean_squared_error(yte, ypred)\n",
    "    print(f'clf: {clf.__class__.__name__}, mse: {mse}')\n",
    "        \n",
    "    sns.kdeplot(ypred, label = 'predicted', ax = ax[i][0], color = 'royalblue')\n",
    "    sns.kdeplot(yte, label = 'true', ax = ax[i][0], color = 'darkslategray')\n",
    "    \n",
    "    ax[i][0].legend()\n",
    "    ax[i][0].set_title(f'{clf.__class__.__name__}, tp LH')\n",
    "\n",
    "Xtr, Xte, ytr, yte = train_test_split(X, y_hl)\n",
    "scaler = StandardScaler().fit(Xtr)\n",
    "Xtr_sc = scaler.transform(Xtr)\n",
    "Xte_sc = scaler.transform(Xte)\n",
    "\n",
    "print('label: tp HL')\n",
    "for idx,clf in enumerate(clfs):\n",
    "    i = idx\n",
    "    \n",
    "    clf = clf.fit(Xtr_sc, ytr)\n",
    "    ypred = clf.predict(Xte_sc)\n",
    "    mse = mean_squared_error(yte, ypred)\n",
    "    print(f'clf: {clf.__class__.__name__}, mse: {mse}')\n",
    "        \n",
    "    sns.kdeplot(ypred, label = 'predicted', ax = ax[i][1],color = 'royalblue')\n",
    "    sns.kdeplot(yte, label = 'true', ax = ax[i][1], color = 'darkslategray')\n",
    "    ax[i][1].set_title(f'{clf.__class__.__name__}, tp HL')\n",
    "\n",
    "plt.tight_layout()\n",
    "plt.show()\n",
    "\n"
   ]
  },
  {
   "cell_type": "code",
   "execution_count": null,
   "metadata": {},
   "outputs": [],
   "source": []
  }
 ],
 "metadata": {
  "colab": {
   "collapsed_sections": [
    "ZxgWy9fERyOJ",
    "jmpYjdqKRrbA",
    "BmD4CaC5RbVS"
   ],
   "name": "Dados CMOS.ipynb",
   "provenance": []
  },
  "kernelspec": {
   "display_name": "Python 3",
   "language": "python",
   "name": "python3"
  },
  "language_info": {
   "codemirror_mode": {
    "name": "ipython",
    "version": 3
   },
   "file_extension": ".py",
   "mimetype": "text/x-python",
   "name": "python",
   "nbconvert_exporter": "python",
   "pygments_lexer": "ipython3",
   "version": "3.8.5"
  }
 },
 "nbformat": 4,
 "nbformat_minor": 1
}
